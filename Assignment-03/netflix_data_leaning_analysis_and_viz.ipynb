{
 "cells": [
  {
   "cell_type": "markdown",
   "id": "114ea1ff-6b65-4166-96ac-1ebb782edbb9",
   "metadata": {},
   "source": [
    "# Netflix Data: Cleaning, Analysis and Visualization"
   ]
  },
  {
   "cell_type": "markdown",
   "id": "4aea20d2-b7a6-4b3e-b748-f3563e89acb5",
   "metadata": {},
   "source": [
    "## Step 0: Domain Knowledge"
   ]
  },
  {
   "cell_type": "markdown",
   "id": "54d50829-094d-432e-af8c-efc3e4cdedf6",
   "metadata": {},
   "source": [
    "- Netflix is a popular streaming service that offers a vast catalog of movies, TV shows, and original contents.\n",
    "- This dataset is a cleaned version of the original version which can be found **[here](https://www.kaggle.com/datasets/shivamb/netflix-shows)**.\n",
    "- The data consist of contents added to Netflix from 2008 to 2021.\n",
    "- The oldest content is as old as 1925 and the newest as 2021.\n",
    "- This dataset will be cleaned with PostgreSQL and visualized with Tableau.\n",
    "- The purpose of this dataset is to test my data cleaning and visualization skills.\n",
    "- The cleaned data can be found below and the Tableau dashboard can be found **[here](https://public.tableau.com/app/profile/abdulrasaq.ariyo/viz/NetflixTVShowsMovies_16615029026580/NetflixDashboard)**."
   ]
  },
  {
   "cell_type": "markdown",
   "id": "a2f1ba81-1553-4108-ae32-5f7027a322cb",
   "metadata": {},
   "source": [
    "## Step 1: Ask Questions"
   ]
  },
  {
   "cell_type": "markdown",
   "id": "424ea336-736f-44e3-99b3-112f7770c992",
   "metadata": {},
   "source": [
    "## Step 2: Wrangle Data"
   ]
  },
  {
   "cell_type": "markdown",
   "id": "4ac0e94a-b695-4737-be9c-a5340c4d6ac2",
   "metadata": {},
   "source": [
    "### Assess Data"
   ]
  },
  {
   "cell_type": "markdown",
   "id": "123fee08-e9f3-40d9-9cfe-47fde597ab40",
   "metadata": {},
   "source": [
    "- Import necessary modules:"
   ]
  },
  {
   "cell_type": "code",
   "execution_count": 1,
   "id": "e0360873-6cda-44d6-9ee6-feebb240fd11",
   "metadata": {
    "tags": []
   },
   "outputs": [],
   "source": [
    "import matplotlib.pyplot as plt\n",
    "%matplotlib inline\n",
    "import pandas as pd\n",
    "import seaborn as sns"
   ]
  },
  {
   "cell_type": "markdown",
   "id": "1e8a5126-fd3c-44f8-a87b-23c3145f5b04",
   "metadata": {},
   "source": [
    "- Read the data:"
   ]
  },
  {
   "cell_type": "code",
   "execution_count": 3,
   "id": "c359d962-b703-4ef9-8d43-42b71a0cce13",
   "metadata": {
    "tags": []
   },
   "outputs": [],
   "source": [
    "netflix = pd.read_csv(\"netflix.csv\")"
   ]
  },
  {
   "cell_type": "markdown",
   "id": "a6641689-4104-4403-85b7-a2ca8e7f0af8",
   "metadata": {},
   "source": [
    "- Explore the data shape:"
   ]
  },
  {
   "cell_type": "code",
   "execution_count": 5,
   "id": "e03a6954-7466-4c6f-b367-c32deb97499a",
   "metadata": {
    "tags": []
   },
   "outputs": [
    {
     "data": {
      "text/plain": [
       "(8790, 10)"
      ]
     },
     "execution_count": 5,
     "metadata": {},
     "output_type": "execute_result"
    }
   ],
   "source": [
    "netflix.shape"
   ]
  },
  {
   "cell_type": "markdown",
   "id": "5e6adec5-00a8-4f57-94ef-e2becd7a215a",
   "metadata": {},
   "source": [
    "- Explore the firt few raws:"
   ]
  },
  {
   "cell_type": "code",
   "execution_count": 4,
   "id": "1cbd5a08-0161-417a-9301-8c5075b37ace",
   "metadata": {
    "tags": []
   },
   "outputs": [
    {
     "data": {
      "text/html": [
       "<div>\n",
       "<style scoped>\n",
       "    .dataframe tbody tr th:only-of-type {\n",
       "        vertical-align: middle;\n",
       "    }\n",
       "\n",
       "    .dataframe tbody tr th {\n",
       "        vertical-align: top;\n",
       "    }\n",
       "\n",
       "    .dataframe thead th {\n",
       "        text-align: right;\n",
       "    }\n",
       "</style>\n",
       "<table border=\"1\" class=\"dataframe\">\n",
       "  <thead>\n",
       "    <tr style=\"text-align: right;\">\n",
       "      <th></th>\n",
       "      <th>show_id</th>\n",
       "      <th>type</th>\n",
       "      <th>title</th>\n",
       "      <th>director</th>\n",
       "      <th>country</th>\n",
       "      <th>date_added</th>\n",
       "      <th>release_year</th>\n",
       "      <th>rating</th>\n",
       "      <th>duration</th>\n",
       "      <th>listed_in</th>\n",
       "    </tr>\n",
       "  </thead>\n",
       "  <tbody>\n",
       "    <tr>\n",
       "      <th>0</th>\n",
       "      <td>s1</td>\n",
       "      <td>Movie</td>\n",
       "      <td>Dick Johnson Is Dead</td>\n",
       "      <td>Kirsten Johnson</td>\n",
       "      <td>United States</td>\n",
       "      <td>9/25/2021</td>\n",
       "      <td>2020</td>\n",
       "      <td>PG-13</td>\n",
       "      <td>90 min</td>\n",
       "      <td>Documentaries</td>\n",
       "    </tr>\n",
       "    <tr>\n",
       "      <th>1</th>\n",
       "      <td>s3</td>\n",
       "      <td>TV Show</td>\n",
       "      <td>Ganglands</td>\n",
       "      <td>Julien Leclercq</td>\n",
       "      <td>France</td>\n",
       "      <td>9/24/2021</td>\n",
       "      <td>2021</td>\n",
       "      <td>TV-MA</td>\n",
       "      <td>1 Season</td>\n",
       "      <td>Crime TV Shows, International TV Shows, TV Act...</td>\n",
       "    </tr>\n",
       "    <tr>\n",
       "      <th>2</th>\n",
       "      <td>s6</td>\n",
       "      <td>TV Show</td>\n",
       "      <td>Midnight Mass</td>\n",
       "      <td>Mike Flanagan</td>\n",
       "      <td>United States</td>\n",
       "      <td>9/24/2021</td>\n",
       "      <td>2021</td>\n",
       "      <td>TV-MA</td>\n",
       "      <td>1 Season</td>\n",
       "      <td>TV Dramas, TV Horror, TV Mysteries</td>\n",
       "    </tr>\n",
       "    <tr>\n",
       "      <th>3</th>\n",
       "      <td>s14</td>\n",
       "      <td>Movie</td>\n",
       "      <td>Confessions of an Invisible Girl</td>\n",
       "      <td>Bruno Garotti</td>\n",
       "      <td>Brazil</td>\n",
       "      <td>9/22/2021</td>\n",
       "      <td>2021</td>\n",
       "      <td>TV-PG</td>\n",
       "      <td>91 min</td>\n",
       "      <td>Children &amp; Family Movies, Comedies</td>\n",
       "    </tr>\n",
       "    <tr>\n",
       "      <th>4</th>\n",
       "      <td>s8</td>\n",
       "      <td>Movie</td>\n",
       "      <td>Sankofa</td>\n",
       "      <td>Haile Gerima</td>\n",
       "      <td>United States</td>\n",
       "      <td>9/24/2021</td>\n",
       "      <td>1993</td>\n",
       "      <td>TV-MA</td>\n",
       "      <td>125 min</td>\n",
       "      <td>Dramas, Independent Movies, International Movies</td>\n",
       "    </tr>\n",
       "  </tbody>\n",
       "</table>\n",
       "</div>"
      ],
      "text/plain": [
       "  show_id     type                             title         director  \\\n",
       "0      s1    Movie              Dick Johnson Is Dead  Kirsten Johnson   \n",
       "1      s3  TV Show                         Ganglands  Julien Leclercq   \n",
       "2      s6  TV Show                     Midnight Mass    Mike Flanagan   \n",
       "3     s14    Movie  Confessions of an Invisible Girl    Bruno Garotti   \n",
       "4      s8    Movie                           Sankofa     Haile Gerima   \n",
       "\n",
       "         country date_added  release_year rating  duration  \\\n",
       "0  United States  9/25/2021          2020  PG-13    90 min   \n",
       "1         France  9/24/2021          2021  TV-MA  1 Season   \n",
       "2  United States  9/24/2021          2021  TV-MA  1 Season   \n",
       "3         Brazil  9/22/2021          2021  TV-PG    91 min   \n",
       "4  United States  9/24/2021          1993  TV-MA   125 min   \n",
       "\n",
       "                                           listed_in  \n",
       "0                                      Documentaries  \n",
       "1  Crime TV Shows, International TV Shows, TV Act...  \n",
       "2                 TV Dramas, TV Horror, TV Mysteries  \n",
       "3                 Children & Family Movies, Comedies  \n",
       "4   Dramas, Independent Movies, International Movies  "
      ]
     },
     "execution_count": 4,
     "metadata": {},
     "output_type": "execute_result"
    }
   ],
   "source": [
    "netflix.head()"
   ]
  },
  {
   "cell_type": "markdown",
   "id": "42ad4e55-c29b-4344-a71e-2d82f704b465",
   "metadata": {},
   "source": [
    "- check for column names, dtypes, missing values and more:"
   ]
  },
  {
   "cell_type": "code",
   "execution_count": 6,
   "id": "3d89f5b6-210d-4d58-b6e9-a604c9d8df09",
   "metadata": {
    "tags": []
   },
   "outputs": [
    {
     "name": "stdout",
     "output_type": "stream",
     "text": [
      "<class 'pandas.core.frame.DataFrame'>\n",
      "RangeIndex: 8790 entries, 0 to 8789\n",
      "Data columns (total 10 columns):\n",
      " #   Column        Non-Null Count  Dtype \n",
      "---  ------        --------------  ----- \n",
      " 0   show_id       8790 non-null   object\n",
      " 1   type          8790 non-null   object\n",
      " 2   title         8790 non-null   object\n",
      " 3   director      8790 non-null   object\n",
      " 4   country       8790 non-null   object\n",
      " 5   date_added    8790 non-null   object\n",
      " 6   release_year  8790 non-null   int64 \n",
      " 7   rating        8790 non-null   object\n",
      " 8   duration      8790 non-null   object\n",
      " 9   listed_in     8790 non-null   object\n",
      "dtypes: int64(1), object(9)\n",
      "memory usage: 686.8+ KB\n"
     ]
    }
   ],
   "source": [
    "netflix.info()"
   ]
  },
  {
   "cell_type": "markdown",
   "id": "cb6fc603-ae16-4c5b-90be-840de79abdd7",
   "metadata": {},
   "source": [
    "- View some stats:"
   ]
  },
  {
   "cell_type": "code",
   "execution_count": 7,
   "id": "14f26416-22d7-47fc-ab63-112c9097f61e",
   "metadata": {
    "tags": []
   },
   "outputs": [
    {
     "data": {
      "text/html": [
       "<div>\n",
       "<style scoped>\n",
       "    .dataframe tbody tr th:only-of-type {\n",
       "        vertical-align: middle;\n",
       "    }\n",
       "\n",
       "    .dataframe tbody tr th {\n",
       "        vertical-align: top;\n",
       "    }\n",
       "\n",
       "    .dataframe thead th {\n",
       "        text-align: right;\n",
       "    }\n",
       "</style>\n",
       "<table border=\"1\" class=\"dataframe\">\n",
       "  <thead>\n",
       "    <tr style=\"text-align: right;\">\n",
       "      <th></th>\n",
       "      <th>count</th>\n",
       "      <th>mean</th>\n",
       "      <th>std</th>\n",
       "      <th>min</th>\n",
       "      <th>25%</th>\n",
       "      <th>50%</th>\n",
       "      <th>75%</th>\n",
       "      <th>max</th>\n",
       "    </tr>\n",
       "  </thead>\n",
       "  <tbody>\n",
       "    <tr>\n",
       "      <th>release_year</th>\n",
       "      <td>8790.0</td>\n",
       "      <td>2014.183163</td>\n",
       "      <td>8.825466</td>\n",
       "      <td>1925.0</td>\n",
       "      <td>2013.0</td>\n",
       "      <td>2017.0</td>\n",
       "      <td>2019.0</td>\n",
       "      <td>2021.0</td>\n",
       "    </tr>\n",
       "  </tbody>\n",
       "</table>\n",
       "</div>"
      ],
      "text/plain": [
       "               count         mean       std     min     25%     50%     75%  \\\n",
       "release_year  8790.0  2014.183163  8.825466  1925.0  2013.0  2017.0  2019.0   \n",
       "\n",
       "                 max  \n",
       "release_year  2021.0  "
      ]
     },
     "execution_count": 7,
     "metadata": {},
     "output_type": "execute_result"
    }
   ],
   "source": [
    "netflix.describe().T"
   ]
  },
  {
   "cell_type": "markdown",
   "id": "aaceb411-d641-4dfd-a7c0-c4d18106a676",
   "metadata": {},
   "source": [
    "### Get the Data Ready for EDA"
   ]
  },
  {
   "cell_type": "markdown",
   "id": "371c63c4-13db-4b7d-b893-299962435bde",
   "metadata": {},
   "source": [
    "- Convert `date_added` to datetime:"
   ]
  },
  {
   "cell_type": "code",
   "execution_count": 15,
   "id": "45583b9a-9b82-49b7-bac1-89eec4ca4b76",
   "metadata": {
    "tags": []
   },
   "outputs": [
    {
     "data": {
      "text/plain": [
       "0   2021-09-25\n",
       "1   2021-09-24\n",
       "2   2021-09-24\n",
       "3   2021-09-22\n",
       "4   2021-09-24\n",
       "Name: date_added, dtype: datetime64[ns]"
      ]
     },
     "execution_count": 15,
     "metadata": {},
     "output_type": "execute_result"
    }
   ],
   "source": [
    "netflix[\"date_added\"] = pd.to_datetime(netflix[\"date_added\"], format=\"%m/%d/%Y\")\n",
    "netflix[\"date_added\"].head()"
   ]
  },
  {
   "cell_type": "markdown",
   "id": "20e519fb-494f-491a-94b5-14ba88464bcf",
   "metadata": {},
   "source": [
    "## Step 3: Perform EDA (Exploratory Data Analysis)"
   ]
  },
  {
   "cell_type": "code",
   "execution_count": 21,
   "id": "2380cb25-2ced-461c-b344-4d24125d0d4e",
   "metadata": {
    "tags": []
   },
   "outputs": [
    {
     "data": {
      "image/png": "[encoded data removed]",
      "text/plain": [
       "<Figure size 640x480 with 1 Axes>"
      ]
     },
     "metadata": {},
     "output_type": "display_data"
    }
   ],
   "source": [
    "ax = sns.countplot(data=netflix, x=\"type\")\n",
    "ax.set_title(\"Movie Counts Vs.TV Shows Counts\");"
   ]
  },
  {
   "cell_type": "code",
   "execution_count": 39,
   "id": "85cbf12e-e297-4cab-a799-99a4dd11e231",
   "metadata": {
    "tags": []
   },
   "outputs": [
    {
     "data": {
      "text/plain": [
       "release_year  type   \n",
       "1925          TV Show    1\n",
       "1942          Movie      2\n",
       "1943          Movie      3\n",
       "1944          Movie      3\n",
       "1945          Movie      3\n",
       "Name: type, dtype: int64"
      ]
     },
     "execution_count": 39,
     "metadata": {},
     "output_type": "execute_result"
    }
   ],
   "source": [
    "grouped_by_release_year_and_type = netflix.groupby(by=[\"release_year\", \"type\"])[\"type\"].count()\n",
    "grouped_by_release_year_and_type.head()"
   ]
  },
  {
   "cell_type": "code",
   "execution_count": 23,
   "id": "2dd981e2-6bba-4b89-bb47-f45e0c7a9582",
   "metadata": {
    "tags": []
   },
   "outputs": [
    {
     "data": {
      "image/png": "[encoded data removed]",
      "text/plain": [
       "<Figure size 640x480 with 1 Axes>"
      ]
     },
     "metadata": {},
     "output_type": "display_data"
    }
   ],
   "source": [
    "ax = sns.lineplot(data=netflix, x=\"release_year\", y=\"type\");"
   ]
  },
  {
   "cell_type": "markdown",
   "id": "eb10583c-7965-44c7-b73f-0c28e6fe3a18",
   "metadata": {},
   "source": [
    "## Step 4: Draw Conclusions"
   ]
  },
  {
   "cell_type": "markdown",
   "id": "1ffeac7b-0685-4ffa-8e57-d95b06f8b527",
   "metadata": {},
   "source": [
    "## Step 5: Communicate Your Results"
   ]
  },
  {
   "cell_type": "code",
   "execution_count": null,
   "id": "d94ad750-990c-4b82-8410-793d161fb860",
   "metadata": {},
   "outputs": [],
   "source": []
  }
 ],
 "metadata": {
  "kernelspec": {
   "display_name": "Data-Science",
   "language": "python",
   "name": "data-science"
  },
  "language_info": {
   "codemirror_mode": {
    "name": "ipython",
    "version": 3
   },
   "file_extension": ".py",
   "mimetype": "text/x-python",
   "name": "python",
   "nbconvert_exporter": "python",
   "pygments_lexer": "ipython3",
   "version": "3.10.10"
  }
 },
 "nbformat": 4,
 "nbformat_minor": 5
}
