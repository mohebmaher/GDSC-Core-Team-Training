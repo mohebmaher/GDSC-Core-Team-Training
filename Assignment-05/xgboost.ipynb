{
 "cells": [
  {
   "cell_type": "markdown",
   "id": "566b7b22-4789-4e17-b49e-dd4c584ad8db",
   "metadata": {},
   "source": [
    "# Extreme Gradient Boosting with XGBoost"
   ]
  },
  {
   "cell_type": "markdown",
   "id": "2437a616-97c8-4d97-bee9-039064aa17a3",
   "metadata": {},
   "source": [
    "- XGBoost is one of the most popular machine learning frameworks among data scientists.\n",
    "- According to the Kaggle [State of Data Science Survey 2021](https://www.kaggle.com/kaggle-survey-2021), almost 50% of respondents said they used XGBoost, ranking below only TensorFlow and Sklearn. "
   ]
  },
  {
   "cell_type": "markdown",
   "id": "48f306b3-904a-4f25-85b2-9d2ad7d3c984",
   "metadata": {},
   "source": [
    "## Set up the workspace"
   ]
  },
  {
   "cell_type": "code",
   "execution_count": 1,
   "id": "fe3b2547-fb5f-4431-bc2e-0be33366a781",
   "metadata": {
    "tags": []
   },
   "outputs": [],
   "source": [
    "import pickle\n",
    "import dill\n",
    "import numpy as np\n",
    "from sklearn.metrics import mean_squared_error, r2_score\n",
    "import xgboost as xgb"
   ]
  },
  {
   "cell_type": "markdown",
   "id": "92d52f19-8872-462a-9654-e8056236acc8",
   "metadata": {},
   "source": [
    "## Load the data"
   ]
  },
  {
   "cell_type": "code",
   "execution_count": 2,
   "id": "57772df1-0815-469b-978f-72694b1b1757",
   "metadata": {
    "tags": []
   },
   "outputs": [],
   "source": [
    "# Load the pre-pickled ready-to-use data arrays:\n",
    "with open(\"./assets/clean_trans_split_arrays.pkl\", mode=\"rb\") as file_bin:\n",
    "    arrs = pickle.load(file_bin)\n",
    "    \n",
    "X_train, X_test, y_train, y_test = arrs.values()"
   ]
  },
  {
   "cell_type": "markdown",
   "id": "9a5939a0-d326-4575-ad0c-826e021df940",
   "metadata": {},
   "source": [
    "## Create regression matrices"
   ]
  },
  {
   "cell_type": "code",
   "execution_count": 3,
   "id": "5176bc34-9cd7-4aeb-8ab3-2dffab985bcd",
   "metadata": {
    "tags": []
   },
   "outputs": [],
   "source": [
    "dtrain_reg = xgb.DMatrix(X_train, y_train)\n",
    "dtest_reg = xgb.DMatrix(X_test, y_test)"
   ]
  },
  {
   "cell_type": "markdown",
   "id": "1f60e0da-8e05-4191-bdf7-2adff903bdbf",
   "metadata": {},
   "source": [
    "## XGBoost Cross-Validation"
   ]
  },
  {
   "cell_type": "code",
   "execution_count": 4,
   "id": "cba46c1a-3fef-40d8-8cf7-3d8637b47c96",
   "metadata": {
    "tags": []
   },
   "outputs": [
    {
     "name": "stdout",
     "output_type": "stream",
     "text": [
      "CPU times: total: 9.05 s\n",
      "Wall time: 5.26 s\n"
     ]
    }
   ],
   "source": [
    "%%time\n",
    "# Set params dict and number of boosting rounds:\n",
    "params = {\"objective\": \"reg:squarederror\", \"tree_method\": \"hist\"}\n",
    "n = 1000\n",
    "\n",
    "# Perform cross-validation:\n",
    "results = xgb.cv(\n",
    "    params,\n",
    "    dtrain_reg,\n",
    "    num_boost_round=n,\n",
    "    nfold=5,\n",
    "    early_stopping_rounds=20\n",
    ")"
   ]
  },
  {
   "cell_type": "code",
   "execution_count": 5,
   "id": "135e6e0c-a749-410e-b2bc-92afaf00caa2",
   "metadata": {
    "tags": []
   },
   "outputs": [
    {
     "data": {
      "text/html": [
       "<div>\n",
       "<style scoped>\n",
       "    .dataframe tbody tr th:only-of-type {\n",
       "        vertical-align: middle;\n",
       "    }\n",
       "\n",
       "    .dataframe tbody tr th {\n",
       "        vertical-align: top;\n",
       "    }\n",
       "\n",
       "    .dataframe thead th {\n",
       "        text-align: right;\n",
       "    }\n",
       "</style>\n",
       "<table border=\"1\" class=\"dataframe\">\n",
       "  <thead>\n",
       "    <tr style=\"text-align: right;\">\n",
       "      <th></th>\n",
       "      <th>train-rmse-mean</th>\n",
       "      <th>train-rmse-std</th>\n",
       "      <th>test-rmse-mean</th>\n",
       "      <th>test-rmse-std</th>\n",
       "    </tr>\n",
       "  </thead>\n",
       "  <tbody>\n",
       "    <tr>\n",
       "      <th>0</th>\n",
       "      <td>172256.235355</td>\n",
       "      <td>577.967148</td>\n",
       "      <td>172457.275831</td>\n",
       "      <td>2598.436413</td>\n",
       "    </tr>\n",
       "    <tr>\n",
       "      <th>1</th>\n",
       "      <td>128740.931671</td>\n",
       "      <td>387.619438</td>\n",
       "      <td>129320.912780</td>\n",
       "      <td>2332.304914</td>\n",
       "    </tr>\n",
       "    <tr>\n",
       "      <th>2</th>\n",
       "      <td>100177.072093</td>\n",
       "      <td>271.279978</td>\n",
       "      <td>101183.366792</td>\n",
       "      <td>2142.113519</td>\n",
       "    </tr>\n",
       "    <tr>\n",
       "      <th>3</th>\n",
       "      <td>81726.725022</td>\n",
       "      <td>290.016991</td>\n",
       "      <td>83285.255977</td>\n",
       "      <td>1767.843292</td>\n",
       "    </tr>\n",
       "    <tr>\n",
       "      <th>4</th>\n",
       "      <td>70135.803183</td>\n",
       "      <td>325.686084</td>\n",
       "      <td>72182.948068</td>\n",
       "      <td>1408.304093</td>\n",
       "    </tr>\n",
       "  </tbody>\n",
       "</table>\n",
       "</div>"
      ],
      "text/plain": [
       "   train-rmse-mean  train-rmse-std  test-rmse-mean  test-rmse-std\n",
       "0    172256.235355      577.967148   172457.275831    2598.436413\n",
       "1    128740.931671      387.619438   129320.912780    2332.304914\n",
       "2    100177.072093      271.279978   101183.366792    2142.113519\n",
       "3     81726.725022      290.016991    83285.255977    1767.843292\n",
       "4     70135.803183      325.686084    72182.948068    1408.304093"
      ]
     },
     "execution_count": 5,
     "metadata": {},
     "output_type": "execute_result"
    }
   ],
   "source": [
    "results.head()"
   ]
  },
  {
   "cell_type": "markdown",
   "id": "39f5b9f9-e921-4ae9-8eb7-7f61d311910c",
   "metadata": {},
   "source": [
    "## Making prediction and model evaluation"
   ]
  },
  {
   "cell_type": "code",
   "execution_count": 6,
   "id": "aa0c194d-3925-4616-88c4-cd9c2adaf1d6",
   "metadata": {
    "tags": []
   },
   "outputs": [
    {
     "name": "stdout",
     "output_type": "stream",
     "text": [
      "[0]\tvalidation-rmse:174652.56938\ttrain-rmse:172287.51008\n",
      "[50]\tvalidation-rmse:49398.48671\ttrain-rmse:35251.88040\n",
      "[100]\tvalidation-rmse:48353.49164\ttrain-rmse:28057.61499\n",
      "[150]\tvalidation-rmse:48165.12815\ttrain-rmse:23541.82792\n",
      "[200]\tvalidation-rmse:48095.89689\ttrain-rmse:20145.62204\n",
      "[250]\tvalidation-rmse:48011.49016\ttrain-rmse:17420.78824\n",
      "[300]\tvalidation-rmse:48063.54561\ttrain-rmse:15199.31090\n",
      "[350]\tvalidation-rmse:48128.03629\ttrain-rmse:13402.41046\n",
      "[400]\tvalidation-rmse:48214.65729\ttrain-rmse:11742.19678\n",
      "[450]\tvalidation-rmse:48200.43362\ttrain-rmse:10369.65087\n",
      "[500]\tvalidation-rmse:48225.83824\ttrain-rmse:9170.97598\n",
      "[550]\tvalidation-rmse:48245.27286\ttrain-rmse:8167.28447\n",
      "[600]\tvalidation-rmse:48284.36748\ttrain-rmse:7214.76369\n",
      "[650]\tvalidation-rmse:48320.55914\ttrain-rmse:6387.25938\n",
      "[700]\tvalidation-rmse:48343.15453\ttrain-rmse:5747.40130\n",
      "[750]\tvalidation-rmse:48343.52475\ttrain-rmse:5132.44643\n",
      "[800]\tvalidation-rmse:48347.67699\ttrain-rmse:4577.34768\n",
      "[850]\tvalidation-rmse:48373.63408\ttrain-rmse:4098.81395\n",
      "[900]\tvalidation-rmse:48388.67987\ttrain-rmse:3615.96098\n",
      "[950]\tvalidation-rmse:48392.37157\ttrain-rmse:3261.82743\n",
      "[999]\tvalidation-rmse:48391.61773\ttrain-rmse:2935.58738\n"
     ]
    }
   ],
   "source": [
    "# Train the model:\n",
    "evals = [(dtest_reg, \"validation\"), (dtrain_reg, \"train\")]\n",
    "\n",
    "model = xgb.train(\n",
    "    params,\n",
    "    dtrain_reg,\n",
    "    num_boost_round=n,\n",
    "    verbose_eval=50,\n",
    "    evals=evals,\n",
    "    early_stopping_rounds=100\n",
    ")"
   ]
  },
  {
   "cell_type": "code",
   "execution_count": 7,
   "id": "6903c4f9-a436-4dd3-ab4f-bec060cbb29e",
   "metadata": {
    "tags": []
   },
   "outputs": [],
   "source": [
    "# Make some prediction:\n",
    "y_preds = model.predict(dtest_reg)"
   ]
  },
  {
   "cell_type": "code",
   "execution_count": 8,
   "id": "dc31d862-9625-4232-955e-4ba4deac8608",
   "metadata": {
    "tags": []
   },
   "outputs": [
    {
     "name": "stdout",
     "output_type": "stream",
     "text": [
      "RMSE of the base model: 48391.618\n",
      "R-squaed of the base model: 0.83\n"
     ]
    }
   ],
   "source": [
    "# Evaluate the model:\n",
    "rmse = mean_squared_error(y_test, y_preds, squared=False)\n",
    "print(f\"RMSE of the base model: {rmse:.3f}\")\n",
    "\n",
    "r2 = r2_score(y_test, y_preds)\n",
    "print(f\"R-squaed of the base model: {r2:.2f}\")"
   ]
  },
  {
   "cell_type": "code",
   "execution_count": null,
   "id": "1e2af170-e93d-4e2f-ab57-0d1bd8a8ee24",
   "metadata": {},
   "outputs": [],
   "source": []
  }
 ],
 "metadata": {
  "kernelspec": {
   "display_name": "Data-Science",
   "language": "python",
   "name": "data-science"
  },
  "language_info": {
   "codemirror_mode": {
    "name": "ipython",
    "version": 3
   },
   "file_extension": ".py",
   "mimetype": "text/x-python",
   "name": "python",
   "nbconvert_exporter": "python",
   "pygments_lexer": "ipython3",
   "version": "3.10.11"
  }
 },
 "nbformat": 4,
 "nbformat_minor": 5
}
