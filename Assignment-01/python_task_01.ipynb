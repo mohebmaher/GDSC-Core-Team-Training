{
 "cells": [
  {
   "cell_type": "markdown",
   "metadata": {
    "id": "h78KKq0C6253"
   },
   "source": [
    "## **GDSC Al-Azhar | Data Science Training**"
   ]
  },
  {
   "cell_type": "markdown",
   "metadata": {
    "id": "oGvBNkHGCa1_"
   },
   "source": [
    "### Print words that start with : **`s`**"
   ]
  },
  {
   "cell_type": "code",
   "execution_count": 1,
   "metadata": {
    "id": "AnLNDKON7Z0Z",
    "tags": []
   },
   "outputs": [],
   "source": [
    "test_str = 'Print only the words that start with s in this sentence'"
   ]
  },
  {
   "cell_type": "code",
   "execution_count": 2,
   "metadata": {
    "colab": {
     "base_uri": "https://localhost:8080/"
    },
    "id": "ct4NS5OEHSfu",
    "outputId": "559066ca-10c2-4fc0-d0d2-af31425f4ede",
    "tags": []
   },
   "outputs": [
    {
     "name": "stdout",
     "output_type": "stream",
     "text": [
      "start\n",
      "s\n",
      "sentence\n"
     ]
    }
   ],
   "source": [
    "# Split the string into a list:\n",
    "word_list = test_str.split(\" \")\n",
    "\n",
    "# Iterate over the list and find the words starting with \"s\":\n",
    "for word in word_list:\n",
    "    # Ensure a caseless comparison ny .casefold() method:\n",
    "    if word.casefold().startswith(\"s\"):\n",
    "        print(word)"
   ]
  },
  {
   "cell_type": "markdown",
   "metadata": {
    "id": "4bPAdz8MBnTl"
   },
   "source": [
    "### Find the most frequent value in a list\n"
   ]
  },
  {
   "cell_type": "code",
   "execution_count": 3,
   "metadata": {
    "id": "NiWVAgc6BcuE",
    "tags": []
   },
   "outputs": [],
   "source": [
    "test_list = [1, 2, 3, 9, 2, 7, 3, 5, 9, 9, 9] "
   ]
  },
  {
   "cell_type": "code",
   "execution_count": 4,
   "metadata": {
    "id": "fghCsGM3Bc1G",
    "tags": []
   },
   "outputs": [],
   "source": [
    "def find_most_frequent(seq):\n",
    "\n",
    "    \"\"\"Finds the most frequent element in a sequence.\"\"\"\n",
    "\n",
    "    element_to_frequency = {}\n",
    "    max_frequency = 0\n",
    "    most_frequent = None\n",
    "\n",
    "    for element in seq:\n",
    "        element_to_frequency[element] = element_to_frequency.get(element, 0) + 1\n",
    "        if element_to_frequency[element] > max_frequency:\n",
    "            max_frequency = element_to_frequency[element]\n",
    "            most_frequent = element\n",
    "\n",
    "    return most_frequent"
   ]
  },
  {
   "cell_type": "code",
   "execution_count": 5,
   "metadata": {
    "colab": {
     "base_uri": "https://localhost:8080/"
    },
    "id": "dIxn2hRxmZ9W",
    "outputId": "2129f1e8-df26-48c4-a8eb-6b0e1f4ad73e",
    "tags": []
   },
   "outputs": [
    {
     "data": {
      "text/plain": [
       "9"
      ]
     },
     "execution_count": 5,
     "metadata": {},
     "output_type": "execute_result"
    }
   ],
   "source": [
    "find_most_frequent(test_list)"
   ]
  },
  {
   "cell_type": "markdown",
   "metadata": {
    "id": "bHYZLtkeDnJn"
   },
   "source": [
    "### Use range() to print all the even numbers from 0 to 10."
   ]
  },
  {
   "cell_type": "code",
   "execution_count": 6,
   "metadata": {
    "colab": {
     "base_uri": "https://localhost:8080/"
    },
    "id": "hnhR4hUKBdRW",
    "outputId": "d924292a-eeea-4d3b-d8aa-9ae2b60209f5",
    "tags": []
   },
   "outputs": [
    {
     "name": "stdout",
     "output_type": "stream",
     "text": [
      "2\n",
      "4\n",
      "6\n",
      "8\n",
      "10\n"
     ]
    }
   ],
   "source": [
    "# Use (%) operator:\n",
    "for n in range(1, 11):\n",
    "    if n % 2 == 0:\n",
    "        print(n)"
   ]
  },
  {
   "cell_type": "code",
   "execution_count": 7,
   "metadata": {
    "colab": {
     "base_uri": "https://localhost:8080/"
    },
    "id": "DDkbDtxcm8pt",
    "outputId": "a04617a0-39e5-4ffc-ad83-d8c64db0e8fc",
    "tags": []
   },
   "outputs": [
    {
     "name": "stdout",
     "output_type": "stream",
     "text": [
      "2\n",
      "4\n",
      "6\n",
      "8\n",
      "10\n"
     ]
    }
   ],
   "source": [
    "# Use an even step:\n",
    "for n in range(2, 11, 2):\n",
    "    print(n)"
   ]
  },
  {
   "cell_type": "markdown",
   "metadata": {
    "id": "WzihSKexD8t8"
   },
   "source": [
    "### Use List comprehension to create a list of all numbers between 1 and 50 that are divisible by 3."
   ]
  },
  {
   "cell_type": "code",
   "execution_count": 8,
   "metadata": {
    "colab": {
     "base_uri": "https://localhost:8080/"
    },
    "id": "uiXokoUBGO9g",
    "outputId": "1431a475-3936-4971-86f9-7e4544016348",
    "tags": []
   },
   "outputs": [
    {
     "data": {
      "text/plain": [
       "[3, 6, 9, 12, 15, 18, 21, 24, 27, 30, 33, 36, 39, 42, 45, 48]"
      ]
     },
     "execution_count": 8,
     "metadata": {},
     "output_type": "execute_result"
    }
   ],
   "source": [
    "nums = [n for n in range(1, 51) if n % 3 == 0]\n",
    "nums"
   ]
  },
  {
   "cell_type": "markdown",
   "metadata": {
    "id": "B9ymkUceGSXf"
   },
   "source": [
    "____\n",
    "### Use a List Comprehension to create a list of the first letters of every word in the string below:"
   ]
  },
  {
   "cell_type": "code",
   "execution_count": 9,
   "metadata": {
    "id": "NHllckuCG6Cd",
    "tags": []
   },
   "outputs": [],
   "source": [
    "test_str = 'Create a list of the first letters of every word in this string'"
   ]
  },
  {
   "cell_type": "code",
   "execution_count": 10,
   "metadata": {
    "colab": {
     "base_uri": "https://localhost:8080/"
    },
    "id": "p4F4Ef-0G3p6",
    "outputId": "353f1ccf-12fc-41ec-a778-f9df130acd67",
    "tags": []
   },
   "outputs": [
    {
     "data": {
      "text/plain": [
       "['C', 'a', 'l', 'o', 't', 'f', 'l', 'o', 'e', 'w', 'i', 't', 's']"
      ]
     },
     "execution_count": 10,
     "metadata": {},
     "output_type": "execute_result"
    }
   ],
   "source": [
    "first_characters = [word[0] for word in test_str.split(\" \")]\n",
    "first_characters"
   ]
  },
  {
   "cell_type": "markdown",
   "metadata": {
    "id": "PC7d_colGJmL"
   },
   "source": [
    "### Go through the string below and if the length of a word is even print \"even!\""
   ]
  },
  {
   "cell_type": "code",
   "execution_count": 11,
   "metadata": {
    "id": "PhdIp7DXHI74",
    "tags": []
   },
   "outputs": [],
   "source": [
    "test_str = 'Print every word in this sentence that has an even number of letters'"
   ]
  },
  {
   "cell_type": "code",
   "execution_count": 12,
   "metadata": {
    "colab": {
     "base_uri": "https://localhost:8080/"
    },
    "id": "DlZFILeDBde4",
    "outputId": "97754b7c-b8b2-416f-c54b-06c892b8b24e",
    "tags": []
   },
   "outputs": [
    {
     "name": "stdout",
     "output_type": "stream",
     "text": [
      "word\n",
      "in\n",
      "this\n",
      "sentence\n",
      "that\n",
      "an\n",
      "even\n",
      "number\n",
      "of\n"
     ]
    }
   ],
   "source": [
    "# Split the string into a list:\n",
    "word_list = test_str.split(\" \")\n",
    "\n",
    "# Check for word length:\n",
    "for word in word_list:\n",
    "  if len(word) % 2 == 0:\n",
    "    print(word)"
   ]
  },
  {
   "cell_type": "markdown",
   "metadata": {},
   "source": [
    "### Using Code --> How to Update List & dict?"
   ]
  },
  {
   "cell_type": "markdown",
   "metadata": {},
   "source": [
    "> - **Update a list:**"
   ]
  },
  {
   "cell_type": "code",
   "execution_count": 13,
   "metadata": {
    "tags": []
   },
   "outputs": [],
   "source": [
    "letters_list = [\"a\", \"b\", \"c\"]"
   ]
  },
  {
   "cell_type": "code",
   "execution_count": 14,
   "metadata": {
    "id": "F08boGrLEDM3",
    "tags": []
   },
   "outputs": [
    {
     "data": {
      "text/plain": [
       "['a', 'b', 'c', 'd']"
      ]
     },
     "execution_count": 14,
     "metadata": {},
     "output_type": "execute_result"
    }
   ],
   "source": [
    "# Append an element:\n",
    "letters_list.append(\"d\")\n",
    "letters_list"
   ]
  },
  {
   "cell_type": "code",
   "execution_count": 15,
   "metadata": {
    "tags": []
   },
   "outputs": [
    {
     "name": "stdout",
     "output_type": "stream",
     "text": [
      "['a', 'b', 'c', 'd', 'e', 'f']\n",
      "['a', 'b', 'c', 'd', 'e', 'f', 'g', 'h']\n"
     ]
    }
   ],
   "source": [
    "# Extend with the elements of another list:\n",
    "letters_list.extend([\"e\", \"f\"])\n",
    "print(letters_list)\n",
    "\n",
    "letters_list += [\"g\", \"h\"]\n",
    "print(letters_list)"
   ]
  },
  {
   "cell_type": "markdown",
   "metadata": {},
   "source": [
    "> - **Update a dict:**"
   ]
  },
  {
   "cell_type": "code",
   "execution_count": 16,
   "metadata": {
    "tags": []
   },
   "outputs": [
    {
     "data": {
      "text/plain": [
       "{'a': 1, 'b': 2, 'c': 3, 'd': 4}"
      ]
     },
     "execution_count": 16,
     "metadata": {},
     "output_type": "execute_result"
    }
   ],
   "source": [
    "# Update dictionary::\n",
    "letters_dict = {\"a\": 1, \"b\": 2, \"c\": 3}\n",
    "letters_dict.update({\"d\": 4})\n",
    "letters_dict"
   ]
  },
  {
   "cell_type": "markdown",
   "metadata": {},
   "source": [
    "### Using Code --> How to delete elements From List?"
   ]
  },
  {
   "cell_type": "code",
   "execution_count": 17,
   "metadata": {
    "tags": []
   },
   "outputs": [
    {
     "data": {
      "text/plain": [
       "['a', 'b', 'c', 'd', 'e', 'f', 'g', 'h']"
      ]
     },
     "execution_count": 17,
     "metadata": {},
     "output_type": "execute_result"
    }
   ],
   "source": [
    "letters_list"
   ]
  },
  {
   "cell_type": "markdown",
   "metadata": {},
   "source": [
    "> - **Delete by index:**"
   ]
  },
  {
   "cell_type": "code",
   "execution_count": 18,
   "metadata": {
    "tags": []
   },
   "outputs": [
    {
     "data": {
      "text/plain": [
       "['a', 'b', 'c', 'd', 'e', 'f', 'g']"
      ]
     },
     "execution_count": 18,
     "metadata": {},
     "output_type": "execute_result"
    }
   ],
   "source": [
    "del letters_list[-1]\n",
    "letters_list"
   ]
  },
  {
   "cell_type": "markdown",
   "metadata": {},
   "source": [
    "> - **Removing and returning an item at given index:**"
   ]
  },
  {
   "cell_type": "code",
   "execution_count": 19,
   "metadata": {
    "tags": []
   },
   "outputs": [
    {
     "data": {
      "text/plain": [
       "['a', 'b', 'c', 'd', 'e', 'f']"
      ]
     },
     "execution_count": 19,
     "metadata": {},
     "output_type": "execute_result"
    }
   ],
   "source": [
    "ch = letters_list.pop(-1)\n",
    "letters_list"
   ]
  },
  {
   "cell_type": "code",
   "execution_count": 20,
   "metadata": {
    "tags": []
   },
   "outputs": [
    {
     "data": {
      "text/plain": [
       "'g'"
      ]
     },
     "execution_count": 20,
     "metadata": {},
     "output_type": "execute_result"
    }
   ],
   "source": [
    "ch"
   ]
  },
  {
   "cell_type": "markdown",
   "metadata": {},
   "source": [
    "> - **Delete by value:**"
   ]
  },
  {
   "cell_type": "code",
   "execution_count": 21,
   "metadata": {
    "tags": []
   },
   "outputs": [
    {
     "data": {
      "text/plain": [
       "['a', 'b', 'c', 'd', 'e']"
      ]
     },
     "execution_count": 21,
     "metadata": {},
     "output_type": "execute_result"
    }
   ],
   "source": [
    "letters_list.remove(\"f\")\n",
    "letters_list"
   ]
  },
  {
   "cell_type": "markdown",
   "metadata": {
    "id": "vOcpHFeKIDLW",
    "tags": []
   },
   "source": [
    "### Using Code --> Advantage of `set()`?"
   ]
  },
  {
   "cell_type": "markdown",
   "metadata": {},
   "source": [
    "> **1. Remove duplicates.**"
   ]
  },
  {
   "cell_type": "code",
   "execution_count": 22,
   "metadata": {
    "tags": []
   },
   "outputs": [
    {
     "data": {
      "text/plain": [
       "{1, 2, 3, 4, 5, 6, 7}"
      ]
     },
     "execution_count": 22,
     "metadata": {},
     "output_type": "execute_result"
    }
   ],
   "source": [
    "# Create a list of numbers with many duplicates:\n",
    "nums_list = [1, 2, 4, 6, 3, 7, 2, 7, 5 , 7, 4, 7, 5, 4]\n",
    "\n",
    "# Cast it into a set to get rid of duplicates:\n",
    "nums_set = set(nums_list)\n",
    "nums_set"
   ]
  },
  {
   "cell_type": "markdown",
   "metadata": {},
   "source": [
    "> **2. Faster search operations.**"
   ]
  },
  {
   "cell_type": "code",
   "execution_count": 23,
   "metadata": {
    "tags": []
   },
   "outputs": [
    {
     "name": "stdout",
     "output_type": "stream",
     "text": [
      "84.5 ms ± 18.7 ms per loop (mean ± std. dev. of 7 runs, 10 loops each)\n",
      "389 ns ± 52 ns per loop (mean ± std. dev. of 7 runs, 1,000,000 loops each)\n"
     ]
    }
   ],
   "source": [
    "# Create a list of numbers and check for the last one:\n",
    "nums_list = [n for n in range(1000_001)]\n",
    "%timeit 1000_000 in nums_list  # Time this operation.\n",
    "\n",
    "# Create a set of the same numbers and check for the last one:\n",
    "nums_set = set(nums_list)\n",
    "%timeit 1000_000 in nums_set  # Time this operation."
   ]
  },
  {
   "cell_type": "markdown",
   "metadata": {},
   "source": [
    "> 3. Python sets allow for performing a group of operations called \"\"set opaerations\", which are very useful in grouping and filtering data."
   ]
  },
  {
   "cell_type": "code",
   "execution_count": 24,
   "metadata": {
    "tags": []
   },
   "outputs": [],
   "source": [
    "set_a = {1, 2, 3}\n",
    "set_b = {3, 4, 5}"
   ]
  },
  {
   "cell_type": "code",
   "execution_count": 25,
   "metadata": {
    "tags": []
   },
   "outputs": [
    {
     "name": "stdout",
     "output_type": "stream",
     "text": [
      "{1, 2}\n",
      "{4, 5}\n",
      "{1, 2, 4, 5}\n"
     ]
    }
   ],
   "source": [
    "# Difference:\n",
    "print(set_a - set_b)\n",
    "print(set_b - set_a)\n",
    "print(set_a ^ set_b)"
   ]
  },
  {
   "cell_type": "code",
   "execution_count": 26,
   "metadata": {
    "tags": []
   },
   "outputs": [
    {
     "name": "stdout",
     "output_type": "stream",
     "text": [
      "{3}\n"
     ]
    }
   ],
   "source": [
    "# Intersection:\n",
    "print(set_a & set_b)"
   ]
  },
  {
   "cell_type": "code",
   "execution_count": 27,
   "metadata": {
    "tags": []
   },
   "outputs": [
    {
     "name": "stdout",
     "output_type": "stream",
     "text": [
      "{1, 2, 3, 4, 5}\n"
     ]
    }
   ],
   "source": [
    "# Union:\n",
    "print(set_a | set_b)"
   ]
  },
  {
   "cell_type": "markdown",
   "metadata": {
    "id": "O30MoQfXP7dC"
   },
   "source": [
    "### Using lambda : Sum 3 nums"
   ]
  },
  {
   "cell_type": "code",
   "execution_count": 28,
   "metadata": {
    "colab": {
     "base_uri": "https://localhost:8080/"
    },
    "id": "oe8unH9RQI7T",
    "outputId": "fc9c6e10-ed61-4886-ee2b-00d3c5238970",
    "tags": []
   },
   "outputs": [
    {
     "data": {
      "text/plain": [
       "6"
      ]
     },
     "execution_count": 28,
     "metadata": {},
     "output_type": "execute_result"
    }
   ],
   "source": [
    "# Initialize any random 3 numbers:\n",
    "x, y, z = 1, 2, 3\n",
    "\n",
    "# Create an anonymous lambda expression:\n",
    "add_three_numbers = lambda x, y, z: x + y + z\n",
    "\n",
    "# Sum up the numbers:\n",
    "add_three_numbers(x, y, z)"
   ]
  },
  {
   "cell_type": "markdown",
   "metadata": {
    "id": "Oj2JQ9_BQXim"
   },
   "source": [
    "### how to sort List \n",
    "\n",
    "```\n",
    "thislist = [100, 50, 65, 82, 23]\n",
    "```"
   ]
  },
  {
   "cell_type": "code",
   "execution_count": 29,
   "metadata": {
    "id": "DWf0_qwjpLoW",
    "tags": []
   },
   "outputs": [],
   "source": [
    "thislist = [100, 50, 65, 82, 23]"
   ]
  },
  {
   "cell_type": "code",
   "execution_count": 30,
   "metadata": {
    "colab": {
     "base_uri": "https://localhost:8080/"
    },
    "id": "vLBcGNfAokJv",
    "outputId": "f24facb5-5d3a-4199-9f69-00e3d0318a47",
    "tags": []
   },
   "outputs": [
    {
     "data": {
      "text/plain": [
       "[23, 50, 65, 82, 100]"
      ]
     },
     "execution_count": 30,
     "metadata": {},
     "output_type": "execute_result"
    }
   ],
   "source": [
    "# Return a sorted copy:\n",
    "sorted_list = sorted(thislist)\n",
    "sorted_list"
   ]
  },
  {
   "cell_type": "code",
   "execution_count": 31,
   "metadata": {
    "colab": {
     "base_uri": "https://localhost:8080/"
    },
    "id": "7dusZEDKQkkU",
    "outputId": "e951a240-2d0d-44c0-b96d-2580609767af",
    "tags": []
   },
   "outputs": [
    {
     "data": {
      "text/plain": [
       "[23, 50, 65, 82, 100]"
      ]
     },
     "execution_count": 31,
     "metadata": {},
     "output_type": "execute_result"
    }
   ],
   "source": [
    "# Sort in place:\n",
    "thislist.sort()\n",
    "thislist"
   ]
  },
  {
   "cell_type": "markdown",
   "metadata": {
    "id": "vM0XHRWMQ9KM"
   },
   "source": [
    "### Reverse List\n",
    "```\n",
    "thislist = [100, 50, 65, 82, 23]\n",
    "```"
   ]
  },
  {
   "cell_type": "code",
   "execution_count": 32,
   "metadata": {
    "id": "Vx4u1kwYp-4n",
    "tags": []
   },
   "outputs": [],
   "source": [
    "thislist = [100, 50, 65, 82, 23]"
   ]
  },
  {
   "cell_type": "code",
   "execution_count": 33,
   "metadata": {
    "colab": {
     "base_uri": "https://localhost:8080/"
    },
    "id": "KxyvbgGipgHp",
    "outputId": "b810feb6-22dd-4336-96fb-5aadb30f2faf",
    "tags": []
   },
   "outputs": [
    {
     "data": {
      "text/plain": [
       "[23, 82, 65, 50, 100]"
      ]
     },
     "execution_count": 33,
     "metadata": {},
     "output_type": "execute_result"
    }
   ],
   "source": [
    "# Return a reversed copy using slicing:\n",
    "reversed_list = thislist[::-1]\n",
    "reversed_list"
   ]
  },
  {
   "cell_type": "code",
   "execution_count": 34,
   "metadata": {
    "colab": {
     "base_uri": "https://localhost:8080/"
    },
    "id": "bMs5iLPMRBDe",
    "outputId": "eedb1c3a-7f23-477f-ac30-0b951653363c",
    "tags": []
   },
   "outputs": [
    {
     "data": {
      "text/plain": [
       "[23, 82, 65, 50, 100]"
      ]
     },
     "execution_count": 34,
     "metadata": {},
     "output_type": "execute_result"
    }
   ],
   "source": [
    "# Reverse in place:\n",
    "thislist.reverse()\n",
    "thislist"
   ]
  },
  {
   "cell_type": "markdown",
   "metadata": {
    "id": "MNB98xc-IQhB"
   },
   "source": [
    "### Write a Python function that takes a list and returns a new list with unique elements of the first list."
   ]
  },
  {
   "cell_type": "markdown",
   "metadata": {
    "id": "_jMLHcgXKLw6"
   },
   "source": [
    "```\n",
    "    Sample List : [1,1,1,1,2,2,3,3,3,3,4,5]\n",
    "    Unique List : [1, 2, 3, 4, 5]\n",
    "```\n",
    "\n"
   ]
  },
  {
   "cell_type": "code",
   "execution_count": 35,
   "metadata": {
    "id": "qM2Y9bHDqO4J",
    "tags": []
   },
   "outputs": [],
   "source": [
    "sample_list = [1, 1, 1, 1, 2, 2, 3, 3, 3, 3 ,4, 5]"
   ]
  },
  {
   "cell_type": "code",
   "execution_count": 36,
   "metadata": {
    "id": "vT6IWYJHIHSp",
    "tags": []
   },
   "outputs": [],
   "source": [
    "def return_unique_elements(seq):\n",
    "    \"\"\"Returns the unique elements in a sequence.\"\"\"\n",
    "    unique_elements = set(seq)\n",
    "    return list(unique_elements)"
   ]
  },
  {
   "cell_type": "code",
   "execution_count": 37,
   "metadata": {
    "colab": {
     "base_uri": "https://localhost:8080/"
    },
    "id": "FEY2HTXLqmuR",
    "outputId": "aa132667-586b-44dc-97bc-2a9a0c4de2b3",
    "tags": []
   },
   "outputs": [
    {
     "data": {
      "text/plain": [
       "[1, 2, 3, 4, 5]"
      ]
     },
     "execution_count": 37,
     "metadata": {},
     "output_type": "execute_result"
    }
   ],
   "source": [
    "return_unique_elements(sample_list)"
   ]
  },
  {
   "cell_type": "markdown",
   "metadata": {
    "id": "DztDyNXyJbj2"
   },
   "source": [
    "### Write a Python function that accepts a string and calculates the number of upper case letters and lower case letters"
   ]
  },
  {
   "cell_type": "markdown",
   "metadata": {
    "id": "yAmH2jKNIYNq"
   },
   "source": [
    "\n",
    "    Sample String : 'Hello Mr. Rogers, how are you this fine Tuesday?'\n",
    "    Expected Output : \n",
    "    No. of Upper case characters : 4\n",
    "    No. of Lower case Characters : 33\n",
    "\n",
    "If you feel ambitious, explore the Collections module to solve this problem!"
   ]
  },
  {
   "cell_type": "code",
   "execution_count": 38,
   "metadata": {
    "id": "2Pf5kke_r4T4",
    "tags": []
   },
   "outputs": [],
   "source": [
    "test_str = 'Hello Mr. Rogers, how are you this fine Tuesday?'"
   ]
  },
  {
   "cell_type": "code",
   "execution_count": 39,
   "metadata": {
    "id": "VkiaLfb9GIkR",
    "tags": []
   },
   "outputs": [],
   "source": [
    "def count_upper_and_lower_letters(test_str):\n",
    "    \n",
    "    \"\"\"Counts upper- and lower-cased letters in a string.\"\"\"\n",
    "    \n",
    "    upper_characters = 0\n",
    "    lower_characters = 0\n",
    "\n",
    "    for ch in test_str:\n",
    "        if ch.isupper():\n",
    "            upper_characters += 1\n",
    "        if ch.islower():\n",
    "            lower_characters += 1\n",
    "\n",
    "    print(f\"No. of Upper case characters : {upper_characters}\")\n",
    "    print(f\"No. of Lower case characters : {lower_characters}\")"
   ]
  },
  {
   "cell_type": "code",
   "execution_count": 40,
   "metadata": {
    "colab": {
     "base_uri": "https://localhost:8080/"
    },
    "id": "HIWo_K7hseXV",
    "outputId": "f39fa03c-0228-4f10-8276-7ef816005a08",
    "tags": []
   },
   "outputs": [
    {
     "name": "stdout",
     "output_type": "stream",
     "text": [
      "No. of Upper case characters : 4\n",
      "No. of Lower case characters : 33\n"
     ]
    }
   ],
   "source": [
    "count_upper_and_lower_letters(test_str)"
   ]
  },
  {
   "cell_type": "markdown",
   "metadata": {
    "id": "56LY3pT-KUg4"
   },
   "source": [
    "### Write a Python function to multiply all the numbers in a list."
   ]
  },
  {
   "cell_type": "markdown",
   "metadata": {
    "id": "MP9hcWP-KeuB"
   },
   "source": [
    "```\n",
    "Sample List : [1, 2, 3, -4]\n",
    "Expected Output : -24\n",
    "```"
   ]
  },
  {
   "cell_type": "code",
   "execution_count": 41,
   "metadata": {
    "tags": []
   },
   "outputs": [],
   "source": [
    "test_list = [1, 2, 3, -4]"
   ]
  },
  {
   "cell_type": "code",
   "execution_count": 42,
   "metadata": {
    "id": "s4-V2IhRKbb2",
    "tags": []
   },
   "outputs": [],
   "source": [
    "def multiply_numbers_in_a_list(test_list):\n",
    "    \n",
    "    \"\"\"Returns a cumulative product of numbers in a list.\"\"\"\n",
    "    \n",
    "    result = 1\n",
    "    for n in test_list:\n",
    "        result *= n\n",
    "    return result"
   ]
  },
  {
   "cell_type": "code",
   "execution_count": 43,
   "metadata": {
    "tags": []
   },
   "outputs": [
    {
     "data": {
      "text/plain": [
       "-24"
      ]
     },
     "execution_count": 43,
     "metadata": {},
     "output_type": "execute_result"
    }
   ],
   "source": [
    "multiply_numbers_in_a_list(test_list)"
   ]
  },
  {
   "cell_type": "markdown",
   "metadata": {
    "id": "kB1vJAIhKmoB"
   },
   "source": [
    "### Write a Python function that checks whether a passed string is palindrome or not"
   ]
  },
  {
   "cell_type": "code",
   "execution_count": 44,
   "metadata": {
    "id": "otpC7Ml1uu5p",
    "tags": []
   },
   "outputs": [],
   "source": [
    "test_str = \"rats live on no evil star\""
   ]
  },
  {
   "cell_type": "code",
   "execution_count": 45,
   "metadata": {
    "id": "AEHGBqMyLT42",
    "tags": []
   },
   "outputs": [],
   "source": [
    "def is_palindrome(test_string):\n",
    "    \"\"\"Checks if a string is a palindrome.\"\"\"\n",
    "    return test_string == test_string[::-1]"
   ]
  },
  {
   "cell_type": "code",
   "execution_count": 46,
   "metadata": {
    "id": "DmW65AdhvIJN",
    "tags": []
   },
   "outputs": [
    {
     "ename": "NameError",
     "evalue": "name 'test_string' is not defined",
     "output_type": "error",
     "traceback": [
      "\u001b[1;31m---------------------------------------------------------------------------\u001b[0m",
      "\u001b[1;31mNameError\u001b[0m                                 Traceback (most recent call last)",
      "Cell \u001b[1;32mIn[46], line 1\u001b[0m\n\u001b[1;32m----> 1\u001b[0m is_palindrome(\u001b[43mtest_string\u001b[49m)\n",
      "\u001b[1;31mNameError\u001b[0m: name 'test_string' is not defined"
     ]
    }
   ],
   "source": [
    "is_palindrome(test_string)"
   ]
  },
  {
   "cell_type": "markdown",
   "metadata": {
    "id": "pzD61QThMWG-"
   },
   "source": [
    "### Open a file, name it 'test.txt' and write 'I Love python' for 5 times in it then close it."
   ]
  },
  {
   "cell_type": "code",
   "execution_count": null,
   "metadata": {
    "id": "n5rvlxjYMUrN",
    "tags": []
   },
   "outputs": [],
   "source": [
    "line = \"I Love python\\n\"\n",
    "with open(\"test.txt\", \"w\") as file:\n",
    "    for i in range(5):\n",
    "        file.write(line)"
   ]
  },
  {
   "cell_type": "markdown",
   "metadata": {
    "id": "mXrPABZVM9Gr"
   },
   "source": [
    "### Handle the exception thrown by the code below by using try and except blocks.\n"
   ]
  },
  {
   "cell_type": "code",
   "execution_count": 47,
   "metadata": {
    "colab": {
     "base_uri": "https://localhost:8080/",
     "height": 184
    },
    "id": "a7IC5KxjNByl",
    "outputId": "5f318591-65d3-4cc4-8537-af890da784f0",
    "tags": []
   },
   "outputs": [
    {
     "ename": "TypeError",
     "evalue": "unsupported operand type(s) for ** or pow(): 'str' and 'int'",
     "output_type": "error",
     "traceback": [
      "\u001b[1;31m---------------------------------------------------------------------------\u001b[0m",
      "\u001b[1;31mTypeError\u001b[0m                                 Traceback (most recent call last)",
      "Cell \u001b[1;32mIn[47], line 2\u001b[0m\n\u001b[0;32m      1\u001b[0m \u001b[38;5;28;01mfor\u001b[39;00m i \u001b[38;5;129;01min\u001b[39;00m [\u001b[38;5;124m'\u001b[39m\u001b[38;5;124ma\u001b[39m\u001b[38;5;124m'\u001b[39m,\u001b[38;5;124m'\u001b[39m\u001b[38;5;124mb\u001b[39m\u001b[38;5;124m'\u001b[39m,\u001b[38;5;124m'\u001b[39m\u001b[38;5;124mc\u001b[39m\u001b[38;5;124m'\u001b[39m]:\n\u001b[1;32m----> 2\u001b[0m     \u001b[38;5;28mprint\u001b[39m(\u001b[43mi\u001b[49m\u001b[43m \u001b[49m\u001b[38;5;241;43m*\u001b[39;49m\u001b[38;5;241;43m*\u001b[39;49m\u001b[43m \u001b[49m\u001b[38;5;241;43m2\u001b[39;49m)\n",
      "\u001b[1;31mTypeError\u001b[0m: unsupported operand type(s) for ** or pow(): 'str' and 'int'"
     ]
    }
   ],
   "source": [
    "for i in ['a','b','c']:\n",
    "    print(i ** 2)"
   ]
  },
  {
   "cell_type": "code",
   "execution_count": 48,
   "metadata": {
    "id": "SMwDDxkOZwI8",
    "tags": []
   },
   "outputs": [
    {
     "name": "stdout",
     "output_type": "stream",
     "text": [
      "unsupported operand type(s) for ** or pow(): 'str' and 'int'\n"
     ]
    }
   ],
   "source": [
    "try:\n",
    "    for i in ['a','b','c']:\n",
    "        print(i ** 2)\n",
    "except TypeError as e:\n",
    "        print(e)"
   ]
  },
  {
   "cell_type": "markdown",
   "metadata": {
    "id": "eTBb4dXtNzGc"
   },
   "source": [
    "### Handle the exception thrown by the code below by using try and except blocks. Then use a finally block to print 'All Done.'"
   ]
  },
  {
   "cell_type": "code",
   "execution_count": 49,
   "metadata": {
    "colab": {
     "base_uri": "https://localhost:8080/",
     "height": 201
    },
    "id": "fU7fUfmjORSP",
    "outputId": "11c13dcb-a1ce-483f-e421-f6a55b893bde",
    "tags": []
   },
   "outputs": [
    {
     "ename": "ZeroDivisionError",
     "evalue": "division by zero",
     "output_type": "error",
     "traceback": [
      "\u001b[1;31m---------------------------------------------------------------------------\u001b[0m",
      "\u001b[1;31mZeroDivisionError\u001b[0m                         Traceback (most recent call last)",
      "Cell \u001b[1;32mIn[49], line 3\u001b[0m\n\u001b[0;32m      1\u001b[0m x \u001b[38;5;241m=\u001b[39m \u001b[38;5;241m5\u001b[39m\n\u001b[0;32m      2\u001b[0m y \u001b[38;5;241m=\u001b[39m \u001b[38;5;241m0\u001b[39m\n\u001b[1;32m----> 3\u001b[0m z \u001b[38;5;241m=\u001b[39m \u001b[43mx\u001b[49m\u001b[43m \u001b[49m\u001b[38;5;241;43m/\u001b[39;49m\u001b[43m \u001b[49m\u001b[43my\u001b[49m\n",
      "\u001b[1;31mZeroDivisionError\u001b[0m: division by zero"
     ]
    }
   ],
   "source": [
    "x = 5\n",
    "y = 0\n",
    "z = x / y"
   ]
  },
  {
   "cell_type": "code",
   "execution_count": 50,
   "metadata": {
    "colab": {
     "base_uri": "https://localhost:8080/"
    },
    "id": "F9kUJtPpN4Ku",
    "outputId": "644b528f-e283-455e-c239-a169d6b1ad43",
    "tags": []
   },
   "outputs": [
    {
     "name": "stdout",
     "output_type": "stream",
     "text": [
      "division by zero\n"
     ]
    }
   ],
   "source": [
    "try:\n",
    "    x = 5\n",
    "    y = 0\n",
    "    z = x / y\n",
    "except ZeroDivisionError as e:\n",
    "    print(e)"
   ]
  },
  {
   "cell_type": "markdown",
   "metadata": {
    "id": "MJVhZZLSZa4Q"
   },
   "source": [
    "### **It does not matter how slowly you go as long as you do not stop.**\n",
    "\n",
    "**feel free to contact me if you need any further information**\n",
    "[LinkedIn](https://www.linkedin.com/in/mohamed-ibrahim-513531202/)\n"
   ]
  },
  {
   "cell_type": "code",
   "execution_count": null,
   "metadata": {},
   "outputs": [],
   "source": []
  }
 ],
 "metadata": {
  "colab": {
   "provenance": []
  },
  "kernelspec": {
   "display_name": "Python 3 (ipykernel)",
   "language": "python",
   "name": "python3"
  },
  "language_info": {
   "codemirror_mode": {
    "name": "ipython",
    "version": 3
   },
   "file_extension": ".py",
   "mimetype": "text/x-python",
   "name": "python",
   "nbconvert_exporter": "python",
   "pygments_lexer": "ipython3",
   "version": "3.10.10"
  }
 },
 "nbformat": 4,
 "nbformat_minor": 4
}
